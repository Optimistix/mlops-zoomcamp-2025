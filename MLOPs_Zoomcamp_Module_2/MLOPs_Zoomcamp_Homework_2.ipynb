{
 "cells": [
  {
   "cell_type": "markdown",
   "id": "c4d61faa-1657-4e31-afa6-90760877a6eb",
   "metadata": {},
   "source": [
    "# Q1. Install MLFlow\n",
    "\n",
    "#### What's the version you have?"
   ]
  },
  {
   "cell_type": "code",
   "execution_count": 1,
   "id": "ffc765fd-18d8-4763-a510-87beb65ba6df",
   "metadata": {},
   "outputs": [
    {
     "name": "stdout",
     "output_type": "stream",
     "text": [
      "mlflow, version 2.22.0\n"
     ]
    }
   ],
   "source": [
    "!mlflow --version"
   ]
  },
  {
   "cell_type": "markdown",
   "id": "ab2f560a-b87c-4acc-9814-7b8a660fdb38",
   "metadata": {},
   "source": [
    "#### The mlflow version is <b>2.22.0</b>"
   ]
  },
  {
   "cell_type": "markdown",
   "id": "ee831e24-d455-42b3-a8b2-9710d0d6a0ff",
   "metadata": {},
   "source": [
    "# Q2. Download and preprocess the data\n",
    "\n",
    "#### How many files were saved to OUTPUT_FOLDER?"
   ]
  },
  {
   "cell_type": "code",
   "execution_count": 4,
   "id": "998ec98c-eb5c-4edf-aca2-52f2f8b59848",
   "metadata": {},
   "outputs": [
    {
     "name": "stdout",
     "output_type": "stream",
     "text": [
      "dv.pkl    test.pkl  train.pkl val.pkl\n"
     ]
    }
   ],
   "source": [
    "!ls /Users/optimistix/MLOPs_Zoomcamp/Module_02/MLOPs_Zoomcamp_Homework_2/output"
   ]
  },
  {
   "cell_type": "markdown",
   "id": "761ea3b1-5724-43ab-b4c1-54de1db6cf70",
   "metadata": {},
   "source": [
    "#### <b>4</b> files were saved to the output folder."
   ]
  },
  {
   "cell_type": "code",
   "execution_count": null,
   "id": "f55923ea-05b2-4505-9782-889588e26643",
   "metadata": {},
   "outputs": [],
   "source": []
  }
 ],
 "metadata": {
  "kernelspec": {
   "display_name": "Python 3 (ipykernel)",
   "language": "python",
   "name": "python3"
  },
  "language_info": {
   "codemirror_mode": {
    "name": "ipython",
    "version": 3
   },
   "file_extension": ".py",
   "mimetype": "text/x-python",
   "name": "python",
   "nbconvert_exporter": "python",
   "pygments_lexer": "ipython3",
   "version": "3.9.21"
  }
 },
 "nbformat": 4,
 "nbformat_minor": 5
}
