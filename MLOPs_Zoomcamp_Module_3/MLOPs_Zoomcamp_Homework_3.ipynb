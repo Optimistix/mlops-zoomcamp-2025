{
 "cells": [
  {
   "cell_type": "markdown",
   "id": "c970851b-7544-4b21-a90d-96b7f8595506",
   "metadata": {},
   "source": [
    "# Question 1. Select the Tool"
   ]
  },
  {
   "cell_type": "markdown",
   "id": "f8af9865-db71-4112-892d-931d1ac76bd7",
   "metadata": {},
   "source": [
    "### I used Prefect."
   ]
  },
  {
   "cell_type": "markdown",
   "id": "e27e9129-8812-46bc-8ba9-02e41641ae5c",
   "metadata": {},
   "source": [
    "# Question 2. Version"
   ]
  },
  {
   "cell_type": "code",
   "execution_count": 1,
   "id": "2c1f6d88-e1ab-4030-9762-e141ccd37c92",
   "metadata": {},
   "outputs": [
    {
     "name": "stdout",
     "output_type": "stream",
     "text": [
      "Version:             3.4.5\n",
      "API version:         0.8.4\n",
      "Python version:      3.9.21\n",
      "Git commit:          df37c8cf\n",
      "Built:               Sat, Jun 07, 2025 02:24 AM\n",
      "OS/Arch:             darwin/x86_64\n",
      "Profile:             ephemeral\n",
      "Server type:         ephemeral\n",
      "Pydantic version:    2.11.5\n",
      "Server:\n",
      "  Database:          sqlite\n",
      "  SQLite version:    3.45.3\n"
     ]
    }
   ],
   "source": [
    "!prefect version"
   ]
  },
  {
   "cell_type": "markdown",
   "id": "3f5a6fd2-031a-4610-a4e2-21c072a01516",
   "metadata": {},
   "source": [
    "### The version of Prefect is 3.4.5"
   ]
  },
  {
   "cell_type": "code",
   "execution_count": null,
   "id": "3797e957-ca9e-4e0f-8c6c-a40c81c994d1",
   "metadata": {},
   "outputs": [],
   "source": []
  }
 ],
 "metadata": {
  "kernelspec": {
   "display_name": "Python 3 (ipykernel)",
   "language": "python",
   "name": "python3"
  },
  "language_info": {
   "codemirror_mode": {
    "name": "ipython",
    "version": 3
   },
   "file_extension": ".py",
   "mimetype": "text/x-python",
   "name": "python",
   "nbconvert_exporter": "python",
   "pygments_lexer": "ipython3",
   "version": "3.9.21"
  }
 },
 "nbformat": 4,
 "nbformat_minor": 5
}
